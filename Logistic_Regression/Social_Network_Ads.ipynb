{
  "nbformat": 4,
  "nbformat_minor": 0,
  "metadata": {
    "colab": {
      "name": "Logistic_Regression_Social_Network_Ads.ipynb",
      "provenance": [],
      "collapsed_sections": [],
      "include_colab_link": true
    },
    "kernelspec": {
      "name": "python3",
      "display_name": "Python 3"
    },
    "language_info": {
      "name": "python"
    }
  },
  "cells": [
    {
      "cell_type": "markdown",
      "metadata": {
        "id": "view-in-github",
        "colab_type": "text"
      },
      "source": [
        "<a href=\"https://colab.research.google.com/github/Edunet-Foundation/vodafone-prgm/blob/main/Logistic_Regression/Social_Network_Ads.ipynb\" target=\"_parent\"><img src=\"https://colab.research.google.com/assets/colab-badge.svg\" alt=\"Open In Colab\"/></a>"
      ]
    },
    {
      "cell_type": "code",
      "metadata": {
        "id": "JH84izCtpxGi"
      },
      "source": [
        "#https://www.kaggle.com/rakeshrau/social-network-ads"
      ],
      "execution_count": null,
      "outputs": []
    },
    {
      "cell_type": "code",
      "metadata": {
        "id": "Ueh4e4hrHYdN"
      },
      "source": [
        "# Reading the dataset and converting into Dataframe\n",
        "import pandas as pd\n",
        "df = pd.read_csv('https://raw.githubusercontent.com/ameer-fice/ai-vodafone/main/datasets/Social_Network.csv')\n",
        "x = df.iloc[:,[2,3]].values\n",
        "y = df.iloc[:,4].values\n",
        "\n",
        "# Sklearn expects input to be in 2 Dimension"
      ],
      "execution_count": null,
      "outputs": []
    },
    {
      "cell_type": "code",
      "metadata": {
        "colab": {
          "base_uri": "https://localhost:8080/"
        },
        "id": "Uwo6EOLMq9Ok",
        "outputId": "2ea5d7fc-a587-4739-e109-e58b3ade10e7"
      },
      "source": [
        "df.shape\n",
        "# Checking the number of rows and columns in a DataFrame"
      ],
      "execution_count": null,
      "outputs": [
        {
          "output_type": "execute_result",
          "data": {
            "text/plain": [
              "(400, 5)"
            ]
          },
          "metadata": {
            "tags": []
          },
          "execution_count": 2
        }
      ]
    },
    {
      "cell_type": "code",
      "metadata": {
        "id": "F7NHr1ulrWSe"
      },
      "source": [
        "# Purchased column : 0 or 1\n",
        "\n",
        "# INput: Age and Salary\n",
        "# Output : Purchased"
      ],
      "execution_count": null,
      "outputs": []
    },
    {
      "cell_type": "code",
      "metadata": {
        "colab": {
          "base_uri": "https://localhost:8080/"
        },
        "id": "EY2rono-r75h",
        "outputId": "66f85b11-f498-484a-cd7c-516eb3720afd"
      },
      "source": [
        "df.nunique()"
      ],
      "execution_count": null,
      "outputs": [
        {
          "output_type": "execute_result",
          "data": {
            "text/plain": [
              "User ID            400\n",
              "Gender               2\n",
              "Age                 43\n",
              "EstimatedSalary    117\n",
              "Purchased            2\n",
              "dtype: int64"
            ]
          },
          "metadata": {
            "tags": []
          },
          "execution_count": 4
        }
      ]
    },
    {
      "cell_type": "code",
      "metadata": {
        "colab": {
          "base_uri": "https://localhost:8080/"
        },
        "id": "Gyg9RDBtsfn5",
        "outputId": "22b9d13e-af54-4a53-bbe1-110c6af812b4"
      },
      "source": [
        "# How many ppl purchased/Not purchased?\n",
        "# Method 1\n",
        "df['Purchased'].value_counts() # Only for Pandas object and not for Numpy"
      ],
      "execution_count": null,
      "outputs": [
        {
          "output_type": "execute_result",
          "data": {
            "text/plain": [
              "0    257\n",
              "1    143\n",
              "Name: Purchased, dtype: int64"
            ]
          },
          "metadata": {
            "tags": []
          },
          "execution_count": 6
        }
      ]
    },
    {
      "cell_type": "code",
      "metadata": {
        "colab": {
          "base_uri": "https://localhost:8080/",
          "height": 283
        },
        "id": "jmdu0z9-O7st",
        "outputId": "8090e2d9-0377-4e55-cad9-ba9f7e0e8984"
      },
      "source": [
        "df['Purchased'].value_counts().plot(kind='barh')\n",
        "# Pandas plotting (No need of matplotlib)"
      ],
      "execution_count": null,
      "outputs": [
        {
          "output_type": "execute_result",
          "data": {
            "text/plain": [
              "<matplotlib.axes._subplots.AxesSubplot at 0x7fd5a79bc9d0>"
            ]
          },
          "metadata": {
            "tags": []
          },
          "execution_count": 7
        },
        {
          "output_type": "display_data",
          "data": {
            "image/png": "[encoded data removed]",
            "text/plain": [
              "<Figure size 432x288 with 1 Axes>"
            ]
          },
          "metadata": {
            "tags": [],
            "needs_background": "light"
          }
        }
      ]
    },
    {
      "cell_type": "code",
      "metadata": {
        "colab": {
          "base_uri": "https://localhost:8080/"
        },
        "id": "reg5pAMHsztA",
        "outputId": "853c0f1a-ba68-47e0-980d-3d210fa95666"
      },
      "source": [
        "# Method 2\n",
        "import numpy as np\n",
        "np.unique(y,return_counts=True)"
      ],
      "execution_count": null,
      "outputs": [
        {
          "output_type": "execute_result",
          "data": {
            "text/plain": [
              "(array([0, 1]), array([257, 143]))"
            ]
          },
          "metadata": {
            "tags": []
          },
          "execution_count": 8
        }
      ]
    },
    {
      "cell_type": "code",
      "metadata": {
        "id": "4PKmG0Lwsoxs"
      },
      "source": [
        "# Splitting the data into 75:25 ratio\n",
        "from sklearn.model_selection import train_test_split\n",
        "x_train,x_test,y_train,y_test = train_test_split(x,y,random_state=0)"
      ],
      "execution_count": null,
      "outputs": []
    },
    {
      "cell_type": "code",
      "metadata": {
        "id": "S2ExGLlhuOgU"
      },
      "source": [
        "#Normalization: Scaling in the range of (0-1)\n",
        "from sklearn.preprocessing import MinMaxScaler\n",
        "scaler = MinMaxScaler()\n",
        "x_train = scaler.fit_transform(x_train)\n",
        "x_test = scaler.transform(x_test)\n",
        "\n",
        "# https://stackoverflow.com/questions/48692500/fit-transform-on-training-data-and-transform-on-test-data"
      ],
      "execution_count": null,
      "outputs": []
    },
    {
      "cell_type": "code",
      "metadata": {
        "colab": {
          "base_uri": "https://localhost:8080/"
        },
        "id": "ejivAVz1tVwu",
        "outputId": "a22dbac7-ee0b-40d1-cc7e-d16022694e69"
      },
      "source": [
        "from sklearn.linear_model import LogisticRegression\n",
        "model = LogisticRegression()\n",
        "model.fit(x_train,y_train)\n",
        "y_pred = model.predict(x_test)\n",
        "y_pred"
      ],
      "execution_count": null,
      "outputs": [
        {
          "output_type": "execute_result",
          "data": {
            "text/plain": [
              "array([0, 0, 0, 0, 0, 0, 0, 1, 0, 0, 0, 0, 0, 0, 0, 0, 0, 0, 1, 0, 0, 1,\n",
              "       0, 1, 0, 1, 0, 0, 0, 0, 0, 0, 1, 0, 0, 0, 0, 0, 0, 0, 0, 0, 0, 0,\n",
              "       1, 0, 0, 1, 0, 1, 1, 0, 0, 0, 1, 0, 0, 0, 0, 0, 0, 1, 0, 0, 0, 1,\n",
              "       0, 0, 0, 0, 1, 0, 0, 0, 0, 0, 0, 0, 1, 1, 1, 1, 0, 0, 1, 0, 0, 1,\n",
              "       0, 0, 0, 1, 0, 0, 0, 0, 0, 0, 1, 1])"
            ]
          },
          "metadata": {
            "tags": []
          },
          "execution_count": 13
        }
      ]
    },
    {
      "cell_type": "code",
      "metadata": {
        "colab": {
          "base_uri": "https://localhost:8080/"
        },
        "id": "wLUp6YqVv0j8",
        "outputId": "a82a4365-dd17-4a10-8e0a-32fcd4e4ea99"
      },
      "source": [
        "# We get coefficients from Gradient Descent Optimization (solver)\n",
        "print(model.coef_)\n",
        "print(model.intercept_)"
      ],
      "execution_count": null,
      "outputs": [
        {
          "output_type": "stream",
          "text": [
            "[[4.89232634 2.53768971]]\n",
            "[-4.08983426]\n"
          ],
          "name": "stdout"
        }
      ]
    },
    {
      "cell_type": "code",
      "metadata": {
        "colab": {
          "base_uri": "https://localhost:8080/"
        },
        "id": "l1J4CYP-trIg",
        "outputId": "9bf3201d-a94c-4452-9cba-1d87f12f51f3"
      },
      "source": [
        "y_test"
      ],
      "execution_count": null,
      "outputs": [
        {
          "output_type": "execute_result",
          "data": {
            "text/plain": [
              "array([0, 0, 0, 0, 0, 0, 0, 1, 0, 0, 0, 0, 0, 0, 0, 0, 0, 0, 1, 0, 0, 1,\n",
              "       0, 1, 0, 1, 0, 0, 0, 0, 0, 1, 1, 0, 0, 0, 0, 0, 0, 1, 0, 0, 0, 0,\n",
              "       1, 0, 0, 1, 0, 1, 1, 0, 0, 0, 1, 1, 0, 0, 1, 0, 0, 1, 0, 1, 0, 1,\n",
              "       0, 0, 0, 0, 1, 0, 0, 1, 0, 0, 0, 0, 1, 1, 1, 0, 0, 0, 1, 1, 0, 1,\n",
              "       1, 0, 0, 1, 0, 0, 0, 1, 0, 1, 1, 1])"
            ]
          },
          "metadata": {
            "tags": []
          },
          "execution_count": 15
        }
      ]
    },
    {
      "cell_type": "code",
      "metadata": {
        "colab": {
          "base_uri": "https://localhost:8080/"
        },
        "id": "d_ubYv8Qt0fS",
        "outputId": "38c1d887-23c4-4569-ed6f-c7d8ce7fcff2"
      },
      "source": [
        "np.unique(y_test,return_counts=True)"
      ],
      "execution_count": null,
      "outputs": [
        {
          "output_type": "execute_result",
          "data": {
            "text/plain": [
              "(array([0, 1]), array([68, 32]))"
            ]
          },
          "metadata": {
            "tags": []
          },
          "execution_count": 16
        }
      ]
    },
    {
      "cell_type": "code",
      "metadata": {
        "colab": {
          "base_uri": "https://localhost:8080/"
        },
        "id": "P32Yc2Omt_WQ",
        "outputId": "5adc05c9-4af1-44dd-ea96-4bf2cb41b8d0"
      },
      "source": [
        "np.unique(y_pred,return_counts=True)"
      ],
      "execution_count": null,
      "outputs": [
        {
          "output_type": "execute_result",
          "data": {
            "text/plain": [
              "(array([0, 1]), array([77, 23]))"
            ]
          },
          "metadata": {
            "tags": []
          },
          "execution_count": 17
        }
      ]
    },
    {
      "cell_type": "code",
      "metadata": {
        "id": "CZ8tmLBmvofK"
      },
      "source": [
        "# Probabilities\n",
        "# Sigmoid Function\n",
        "# ROC-AUC Curve\n",
        "# Evaluation: Accuracy Score"
      ],
      "execution_count": null,
      "outputs": []
    },
    {
      "cell_type": "code",
      "metadata": {
        "id": "fylwQBag8o8P"
      },
      "source": [
        "# Probabilities"
      ],
      "execution_count": null,
      "outputs": []
    },
    {
      "cell_type": "code",
      "metadata": {
        "colab": {
          "base_uri": "https://localhost:8080/"
        },
        "id": "Uljm_E_P80Xw",
        "outputId": "ffc75f62-ff61-4714-a523-8bb16cf4a991"
      },
      "source": [
        "y_prob_pred = model.predict_proba(x_test)\n",
        "y_prob_pred.shape"
      ],
      "execution_count": null,
      "outputs": [
        {
          "output_type": "execute_result",
          "data": {
            "text/plain": [
              "(100, 2)"
            ]
          },
          "metadata": {
            "tags": []
          },
          "execution_count": 20
        }
      ]
    },
    {
      "cell_type": "code",
      "metadata": {
        "colab": {
          "base_uri": "https://localhost:8080/"
        },
        "id": "nAEh-qEp89_z",
        "outputId": "8b160b11-5824-41dc-a894-75bd66a65449"
      },
      "source": [
        "y_pred[0]"
      ],
      "execution_count": null,
      "outputs": [
        {
          "output_type": "execute_result",
          "data": {
            "text/plain": [
              "0"
            ]
          },
          "metadata": {
            "tags": []
          },
          "execution_count": 21
        }
      ]
    },
    {
      "cell_type": "code",
      "metadata": {
        "colab": {
          "base_uri": "https://localhost:8080/"
        },
        "id": "woml5PZy-uJ6",
        "outputId": "e0a9b6ba-0255-49da-eff5-3a16e354f21d"
      },
      "source": [
        "y_prob_pred[0]"
      ],
      "execution_count": null,
      "outputs": [
        {
          "output_type": "execute_result",
          "data": {
            "text/plain": [
              "array([0.79225834, 0.20774166])"
            ]
          },
          "metadata": {
            "tags": []
          },
          "execution_count": 22
        }
      ]
    },
    {
      "cell_type": "code",
      "metadata": {
        "colab": {
          "base_uri": "https://localhost:8080/"
        },
        "id": "UI-h34Db9bqu",
        "outputId": "5bb0d8b0-d2d3-4570-e37b-545197b3e72e"
      },
      "source": [
        "y_prob_pred_out = np.argmax(y_prob_pred,axis=1)\n",
        "y_prob_pred_out"
      ],
      "execution_count": null,
      "outputs": [
        {
          "output_type": "execute_result",
          "data": {
            "text/plain": [
              "array([0, 0, 0, 0, 0, 0, 0, 1, 0, 0, 0, 0, 0, 0, 0, 0, 0, 0, 1, 0, 0, 1,\n",
              "       0, 1, 0, 1, 0, 0, 0, 0, 0, 0, 1, 0, 0, 0, 0, 0, 0, 0, 0, 0, 0, 0,\n",
              "       1, 0, 0, 1, 0, 1, 1, 0, 0, 0, 1, 0, 0, 0, 0, 0, 0, 1, 0, 0, 0, 1,\n",
              "       0, 0, 0, 0, 1, 0, 0, 0, 0, 0, 0, 0, 1, 1, 1, 1, 0, 0, 1, 0, 0, 1,\n",
              "       0, 0, 0, 1, 0, 0, 0, 0, 0, 0, 1, 1])"
            ]
          },
          "metadata": {
            "tags": []
          },
          "execution_count": 23
        }
      ]
    },
    {
      "cell_type": "code",
      "metadata": {
        "id": "mOd1LuxX94WJ"
      },
      "source": [
        "# Evaluation : Accuracy Score\n",
        "# Confusion Matrix : Precision/Recall/F1-Score (Only for imbalanced dataset)"
      ],
      "execution_count": null,
      "outputs": []
    },
    {
      "cell_type": "code",
      "metadata": {
        "id": "9GM2aI3ABBwW"
      },
      "source": [
        "# 2 categories : 1000 values and 90000 values (Example of Imbalanced Dataset)"
      ],
      "execution_count": null,
      "outputs": []
    },
    {
      "cell_type": "code",
      "metadata": {
        "id": "yDlwZ6MIBjXF"
      },
      "source": [
        "from sklearn.metrics import accuracy_score,confusion_matrix,classification_report"
      ],
      "execution_count": null,
      "outputs": []
    },
    {
      "cell_type": "code",
      "metadata": {
        "colab": {
          "base_uri": "https://localhost:8080/"
        },
        "id": "eYjhWEpvBqvr",
        "outputId": "c3d65b98-3c96-4587-df25-15745156753d"
      },
      "source": [
        "accuracy_score(y_pred,y_test)"
      ],
      "execution_count": null,
      "outputs": [
        {
          "output_type": "execute_result",
          "data": {
            "text/plain": [
              "0.89"
            ]
          },
          "metadata": {
            "tags": []
          },
          "execution_count": 29
        }
      ]
    },
    {
      "cell_type": "code",
      "metadata": {
        "colab": {
          "base_uri": "https://localhost:8080/"
        },
        "id": "rrjp_a4XBtkr",
        "outputId": "17e75035-37fe-4bdf-f18c-dbb539cf934c"
      },
      "source": [
        "c_m = confusion_matrix(y_pred,y_test)\n",
        "c_m\n",
        "#(array([0, 1]), array([77, 23]))"
      ],
      "execution_count": null,
      "outputs": [
        {
          "output_type": "execute_result",
          "data": {
            "text/plain": [
              "array([[67, 10],\n",
              "       [ 1, 22]])"
            ]
          },
          "metadata": {
            "tags": []
          },
          "execution_count": 30
        }
      ]
    },
    {
      "cell_type": "code",
      "metadata": {
        "colab": {
          "base_uri": "https://localhost:8080/",
          "height": 265
        },
        "id": "jf9279tAP3Fq",
        "outputId": "e92d7c4a-b6d4-4b49-b8e1-73b4214d7005"
      },
      "source": [
        "import seaborn as sns\n",
        "import matplotlib.pyplot as plt\n",
        "group_names = ['True Neg','False Pos','False Neg','True Pos']\n",
        "group_counts = [value for value in c_m.flatten()]\n",
        "labels = [f'{v1}\\n{v2}' for v1, v2 in\n",
        "          zip(group_names,group_counts)]\n",
        "labels = np.asarray(labels).reshape(2,2)\n",
        "sns.heatmap(c_m, annot=labels, fmt='')\n",
        "plt.show()"
      ],
      "execution_count": null,
      "outputs": [
        {
          "output_type": "display_data",
          "data": {
            "image/png": "[encoded data removed]",
            "text/plain": [
              "<Figure size 432x288 with 2 Axes>"
            ]
          },
          "metadata": {
            "tags": [],
            "needs_background": "light"
          }
        }
      ]
    },
    {
      "cell_type": "code",
      "metadata": {
        "id": "Zc9kXnC-BypG"
      },
      "source": [
        "# True Negative\n",
        "# False Negative\n",
        "# False Positive \n",
        "# True Positive"
      ],
      "execution_count": null,
      "outputs": []
    },
    {
      "cell_type": "code",
      "metadata": {
        "colab": {
          "base_uri": "https://localhost:8080/"
        },
        "id": "_qJunVQtCmfP",
        "outputId": "e942e616-9c5b-4ea7-f042-7f8fb7d4847a"
      },
      "source": [
        "(67+22)/(67+10+1+22)"
      ],
      "execution_count": null,
      "outputs": [
        {
          "output_type": "execute_result",
          "data": {
            "text/plain": [
              "0.89"
            ]
          },
          "metadata": {
            "tags": []
          },
          "execution_count": 35
        }
      ]
    },
    {
      "cell_type": "code",
      "metadata": {
        "colab": {
          "base_uri": "https://localhost:8080/"
        },
        "id": "uCik7yksCtAv",
        "outputId": "5ea17f60-8c78-4ad9-a301-58c28af6979a"
      },
      "source": [
        "print(classification_report(y_pred,y_test))"
      ],
      "execution_count": null,
      "outputs": [
        {
          "output_type": "stream",
          "text": [
            "              precision    recall  f1-score   support\n",
            "\n",
            "           0       0.99      0.87      0.92        77\n",
            "           1       0.69      0.96      0.80        23\n",
            "\n",
            "    accuracy                           0.89       100\n",
            "   macro avg       0.84      0.91      0.86       100\n",
            "weighted avg       0.92      0.89      0.90       100\n",
            "\n"
          ],
          "name": "stdout"
        }
      ]
    },
    {
      "cell_type": "markdown",
      "metadata": {
        "id": "kypCMj9BEqFo"
      },
      "source": [
        "![image.png](data:image/png;base64,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)"
      ]
    },
    {
      "cell_type": "code",
      "metadata": {
        "colab": {
          "base_uri": "https://localhost:8080/"
        },
        "id": "KO3OCy2_DS7I",
        "outputId": "2a87814d-2300-44a3-91b7-2430c58967c2"
      },
      "source": [
        "# Precision Example of 1\n",
        "67/(67+1)"
      ],
      "execution_count": null,
      "outputs": [
        {
          "output_type": "execute_result",
          "data": {
            "text/plain": [
              "0.9852941176470589"
            ]
          },
          "metadata": {
            "tags": []
          },
          "execution_count": 37
        }
      ]
    },
    {
      "cell_type": "code",
      "metadata": {
        "colab": {
          "base_uri": "https://localhost:8080/"
        },
        "id": "flfFMkbRE5jx",
        "outputId": "445a2f8b-8a19-4d5e-cd62-8a3070eb1b66"
      },
      "source": [
        "# Precision of 0\n",
        "22/(22+10)"
      ],
      "execution_count": null,
      "outputs": [
        {
          "output_type": "execute_result",
          "data": {
            "text/plain": [
              "0.6875"
            ]
          },
          "metadata": {
            "tags": []
          },
          "execution_count": 38
        }
      ]
    },
    {
      "cell_type": "markdown",
      "metadata": {
        "id": "dyerfiKQ6Jbj"
      },
      "source": [
        "![image.png](data:image/png;base64,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)"
      ]
    },
    {
      "cell_type": "code",
      "metadata": {
        "id": "t_tuOhDX9kN0"
      },
      "source": [
        "# Logistic Regression\n",
        "\n",
        "# 1. Input and Output\n",
        "# 2. Gradient Descent ( Optimization Algorithm ): It gives Coefficients and Intercept\n",
        "# y = m1x1+m2x2+c\n",
        "# 3. Sigmoid Function on the equation to get probabilities\n",
        "# 4. From probabilities you get Max Index Output"
      ],
      "execution_count": null,
      "outputs": []
    },
    {
      "cell_type": "code",
      "metadata": {
        "id": "tg_lUDGlJqsU"
      },
      "source": [
        "import math\n",
        "def sigmoid(x):\n",
        "  return 1 / (1 + math.exp(-x))"
      ],
      "execution_count": null,
      "outputs": []
    },
    {
      "cell_type": "code",
      "metadata": {
        "id": "5ZeFYcOUJrZY"
      },
      "source": [
        "def prediction_function(age,sal):\n",
        "    m1 = model.coef_[0][0]\n",
        "    m2 = model.coef_[0][1]\n",
        "    c = model.intercept_[0]\n",
        "    z = (m1 * age )+(m2*sal)+ c \n",
        "    y = sigmoid(z)\n",
        "    return y"
      ],
      "execution_count": null,
      "outputs": []
    },
    {
      "cell_type": "code",
      "metadata": {
        "colab": {
          "base_uri": "https://localhost:8080/"
        },
        "id": "-ggI_9hOJ7sI",
        "outputId": "d4f3e823-adca-46bd-c21c-73ae313837b1"
      },
      "source": [
        "age = x_test[0][0]\n",
        "sal = x_test[0][1]\n",
        "prediction_function(age,sal)"
      ],
      "execution_count": null,
      "outputs": [
        {
          "output_type": "execute_result",
          "data": {
            "text/plain": [
              "0.2077416625552371"
            ]
          },
          "metadata": {
            "tags": []
          },
          "execution_count": 42
        }
      ]
    },
    {
      "cell_type": "code",
      "metadata": {
        "colab": {
          "base_uri": "https://localhost:8080/"
        },
        "id": "OT-oaXPwKVX0",
        "outputId": "bc8460d3-f654-445a-de94-7fd4719e5ed3"
      },
      "source": [
        "1-0.2077416625552371"
      ],
      "execution_count": null,
      "outputs": [
        {
          "output_type": "execute_result",
          "data": {
            "text/plain": [
              "0.7922583374447629"
            ]
          },
          "metadata": {
            "tags": []
          },
          "execution_count": 43
        }
      ]
    },
    {
      "cell_type": "code",
      "metadata": {
        "colab": {
          "base_uri": "https://localhost:8080/"
        },
        "id": "cQjTdTGgKth4",
        "outputId": "a99cc6a1-acaa-4ef4-c0bc-decce5191012"
      },
      "source": [
        "y_prob_pred[0]"
      ],
      "execution_count": null,
      "outputs": [
        {
          "output_type": "execute_result",
          "data": {
            "text/plain": [
              "array([0.79225834, 0.20774166])"
            ]
          },
          "metadata": {
            "tags": []
          },
          "execution_count": 44
        }
      ]
    },
    {
      "cell_type": "code",
      "metadata": {
        "id": "G79UvoOPKyrg"
      },
      "source": [
        "result = []\n",
        "for i in range(x_test.shape[0]):\n",
        "  age = x_test[i][0]\n",
        "  sal = x_test[i][1]\n",
        "  result.append(1-prediction_function(age,sal))"
      ],
      "execution_count": null,
      "outputs": []
    },
    {
      "cell_type": "code",
      "metadata": {
        "colab": {
          "base_uri": "https://localhost:8080/"
        },
        "id": "ZSmkHqYoao_C",
        "outputId": "6270cbb8-af99-49b4-bf2a-180331c0383e"
      },
      "source": [
        "result"
      ],
      "execution_count": null,
      "outputs": [
        {
          "output_type": "execute_result",
          "data": {
            "text/plain": [
              "[0.7922583374447629,\n",
              " 0.750678735473035,\n",
              " 0.7274542929985177,\n",
              " 0.8159242006635616,\n",
              " 0.8102579868741706,\n",
              " 0.9501447296355265,\n",
              " 0.9292708708715455,\n",
              " 0.39370123817990577,\n",
              " 0.9566261555374937,\n",
              " 0.5462334923643397,\n",
              " 0.8862408116887319,\n",
              " 0.8978065091509405,\n",
              " 0.7548652036989376,\n",
              " 0.6173259520306796,\n",
              " 0.9256855736647198,\n",
              " 0.6322062239963432,\n",
              " 0.6706621785150084,\n",
              " 0.9344724321759766,\n",
              " 0.08457049169482034,\n",
              " 0.8784702568631977,\n",
              " 0.818776559844641,\n",
              " 0.15276153397264414,\n",
              " 0.6756793431856712,\n",
              " 0.2728930270433798,\n",
              " 0.9631390239253871,\n",
              " 0.1312810843300345,\n",
              " 0.8280059051678725,\n",
              " 0.8301456824777184,\n",
              " 0.7297090726108733,\n",
              " 0.7548080308865139,\n",
              " 0.9143661280701452,\n",
              " 0.6623056836667339,\n",
              " 0.21434401124925861,\n",
              " 0.7617551677370218,\n",
              " 0.9297352310977907,\n",
              " 0.9675265269423123,\n",
              " 0.9155410909602747,\n",
              " 0.8455027660047086,\n",
              " 0.9018885115365403,\n",
              " 0.5210075631399133,\n",
              " 0.8414753210190649,\n",
              " 0.6715465493099155,\n",
              " 0.8512497966844522,\n",
              " 0.8824271838952269,\n",
              " 0.343972318123835,\n",
              " 0.9031895453756373,\n",
              " 0.6580887069619701,\n",
              " 0.21747397148615477,\n",
              " 0.9466470500473692,\n",
              " 0.2982164777018834,\n",
              " 0.07839227635105217,\n",
              " 0.8847410710801409,\n",
              " 0.7891989198533442,\n",
              " 0.5857250838150343,\n",
              " 0.11322238582099198,\n",
              " 0.651401734538722,\n",
              " 0.8220453743832715,\n",
              " 0.8739243810345835,\n",
              " 0.5583482910561136,\n",
              " 0.9681215046895623,\n",
              " 0.9170303511395509,\n",
              " 0.21248182010887962,\n",
              " 0.9441012027653236,\n",
              " 0.6020744162672316,\n",
              " 0.9773918145030077,\n",
              " 0.11098334882623728,\n",
              " 0.8807866392386221,\n",
              " 0.9031895453756373,\n",
              " 0.7161941024241973,\n",
              " 0.5647212514110995,\n",
              " 0.48035239826855314,\n",
              " 0.7199370613074187,\n",
              " 0.9382897489507338,\n",
              " 0.692787455235991,\n",
              " 0.838951684257045,\n",
              " 0.9442960281844239,\n",
              " 0.5227758045224009,\n",
              " 0.6640266756772619,\n",
              " 0.4147748775998866,\n",
              " 0.26549727343141594,\n",
              " 0.04767824879126381,\n",
              " 0.1230076386973118,\n",
              " 0.9333311619449531,\n",
              " 0.9416958209614241,\n",
              " 0.26857366121876947,\n",
              " 0.5180842597535739,\n",
              " 0.598525481759197,\n",
              " 0.05479806045666491,\n",
              " 0.5840795380593011,\n",
              " 0.6375639631079211,\n",
              " 0.5922155218921977,\n",
              " 0.3575853502589409,\n",
              " 0.9472045624487611,\n",
              " 0.9496018300146019,\n",
              " 0.890307810238774,\n",
              " 0.8203712541887005,\n",
              " 0.9311906744679732,\n",
              " 0.563888063022457,\n",
              " 0.30692981372773886,\n",
              " 0.40642208941996805]"
            ]
          },
          "metadata": {
            "tags": []
          },
          "execution_count": 46
        }
      ]
    },
    {
      "cell_type": "code",
      "metadata": {
        "id": "WkT1VqVNFC3H"
      },
      "source": [
        "# 0.4 as the threshold (Can we take this?)\n",
        "# ?"
      ],
      "execution_count": null,
      "outputs": []
    },
    {
      "cell_type": "code",
      "metadata": {
        "id": "_WJEV_Ctat2r"
      },
      "source": [
        "# ROC - Receiver Operating Curve\n",
        "# TO determine best Threshold value\n",
        "# Sensitivity = TPR\n",
        "# Specificity = FPR = 1-TPR"
      ],
      "execution_count": null,
      "outputs": []
    },
    {
      "cell_type": "code",
      "metadata": {
        "id": "ae_SfKiH6qUq"
      },
      "source": [
        "final = model.predict_proba(x_test)[:,1]\n"
      ],
      "execution_count": null,
      "outputs": []
    },
    {
      "cell_type": "code",
      "metadata": {
        "id": "e4hsubBY67kQ"
      },
      "source": [
        "from sklearn.metrics import roc_curve\n",
        "fpr,tpr,thresholds = roc_curve(y_test,final)"
      ],
      "execution_count": null,
      "outputs": []
    },
    {
      "cell_type": "code",
      "metadata": {
        "colab": {
          "base_uri": "https://localhost:8080/"
        },
        "id": "L-d8ljeR7bNt",
        "outputId": "f3e4726a-5c2e-4d24-adb1-dc4180edee71"
      },
      "source": [
        "thresholds"
      ],
      "execution_count": null,
      "outputs": [
        {
          "output_type": "execute_result",
          "data": {
            "text/plain": [
              "array([1.95232175, 0.95232175, 0.88677761, 0.87699236, 0.47899244,\n",
              "       0.45376651, 0.43611194, 0.43527875, 0.41592046, 0.40147452,\n",
              "       0.39792558, 0.36243604, 0.34859827, 0.34191129, 0.33769432,\n",
              "       0.32432066, 0.30721254, 0.18122344, 0.17962875, 0.09811149,\n",
              "       0.09681045, 0.02260819])"
            ]
          },
          "metadata": {
            "tags": []
          },
          "execution_count": 64
        }
      ]
    },
    {
      "cell_type": "code",
      "metadata": {
        "colab": {
          "base_uri": "https://localhost:8080/",
          "height": 265
        },
        "id": "sTwqg7zX7ezv",
        "outputId": "96cf6a50-e9ac-4b8d-c817-2afb32c26622"
      },
      "source": [
        "import matplotlib.pyplot as plt\n",
        "plt.scatter(fpr,tpr,label='ROC')\n",
        "plt.plot(fpr,tpr,c='r')\n",
        "plt.plot([0,1],[0,1],color='orange',linestyle='--')\n",
        "plt.fill_between(fpr,tpr,color='g',alpha=0.2)\n",
        "plt.show()"
      ],
      "execution_count": null,
      "outputs": [
        {
          "output_type": "display_data",
          "data": {
            "image/png": "[encoded data removed]",
            "text/plain": [
              "<Figure size 432x288 with 1 Axes>"
            ]
          },
          "metadata": {
            "tags": [],
            "needs_background": "light"
          }
        }
      ]
    },
    {
      "cell_type": "code",
      "metadata": {
        "id": "sEmya3W670U3"
      },
      "source": [
        ""
      ],
      "execution_count": null,
      "outputs": []
    }
  ]
}