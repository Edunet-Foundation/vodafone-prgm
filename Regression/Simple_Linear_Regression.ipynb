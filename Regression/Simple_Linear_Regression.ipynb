{
  "nbformat": 4,
  "nbformat_minor": 0,
  "metadata": {
    "colab": {
      "name": "Simple_Linear_Regression.ipynb",
      "provenance": [],
      "include_colab_link": true
    },
    "kernelspec": {
      "name": "python3",
      "display_name": "Python 3"
    },
    "language_info": {
      "name": "python"
    }
  },
  "cells": [
    {
      "cell_type": "markdown",
      "metadata": {
        "id": "view-in-github",
        "colab_type": "text"
      },
      "source": [
        "<a href=\"https://colab.research.google.com/github/Edunet-Foundation/vodafone-prgm/blob/main/Regression/Simple_Linear_Regression.ipynb\" target=\"_parent\"><img src=\"https://colab.research.google.com/assets/colab-badge.svg\" alt=\"Open In Colab\"/></a>"
      ]
    },
    {
      "cell_type": "code",
      "metadata": {
        "colab": {
          "base_uri": "https://localhost:8080/",
          "height": 197
        },
        "id": "UJu0vpuVqXxR",
        "outputId": "8453b091-bcc8-455b-83e4-3a6dca349fab"
      },
      "source": [
        "import pandas as pd\n",
        "df = pd.read_csv('https://raw.githubusercontent.com/ameer-fice/ai-vodafone/main/datasets/Salary_Data.csv')\n",
        "df.head()"
      ],
      "execution_count": null,
      "outputs": [
        {
          "output_type": "execute_result",
          "data": {
            "text/html": [
              "<div>\n",
              "<style scoped>\n",
              "    .dataframe tbody tr th:only-of-type {\n",
              "        vertical-align: middle;\n",
              "    }\n",
              "\n",
              "    .dataframe tbody tr th {\n",
              "        vertical-align: top;\n",
              "    }\n",
              "\n",
              "    .dataframe thead th {\n",
              "        text-align: right;\n",
              "    }\n",
              "</style>\n",
              "<table border=\"1\" class=\"dataframe\">\n",
              "  <thead>\n",
              "    <tr style=\"text-align: right;\">\n",
              "      <th></th>\n",
              "      <th>YearsExperience</th>\n",
              "      <th>Salary</th>\n",
              "    </tr>\n",
              "  </thead>\n",
              "  <tbody>\n",
              "    <tr>\n",
              "      <th>0</th>\n",
              "      <td>1.1</td>\n",
              "      <td>39343.0</td>\n",
              "    </tr>\n",
              "    <tr>\n",
              "      <th>1</th>\n",
              "      <td>1.3</td>\n",
              "      <td>46205.0</td>\n",
              "    </tr>\n",
              "    <tr>\n",
              "      <th>2</th>\n",
              "      <td>1.5</td>\n",
              "      <td>37731.0</td>\n",
              "    </tr>\n",
              "    <tr>\n",
              "      <th>3</th>\n",
              "      <td>2.0</td>\n",
              "      <td>43525.0</td>\n",
              "    </tr>\n",
              "    <tr>\n",
              "      <th>4</th>\n",
              "      <td>2.2</td>\n",
              "      <td>39891.0</td>\n",
              "    </tr>\n",
              "  </tbody>\n",
              "</table>\n",
              "</div>"
            ],
            "text/plain": [
              "   YearsExperience   Salary\n",
              "0              1.1  39343.0\n",
              "1              1.3  46205.0\n",
              "2              1.5  37731.0\n",
              "3              2.0  43525.0\n",
              "4              2.2  39891.0"
            ]
          },
          "metadata": {
            "tags": []
          },
          "execution_count": 1
        }
      ]
    },
    {
      "cell_type": "code",
      "metadata": {
        "colab": {
          "base_uri": "https://localhost:8080/",
          "height": 264
        },
        "id": "mHe-Qg4Aqvzw",
        "outputId": "c900f3f3-c33c-4e46-9042-dafc26ee3c52"
      },
      "source": [
        "import matplotlib.pyplot as plt\n",
        "plt.scatter(df['YearsExperience'],df['Salary'])\n",
        "plt.show()"
      ],
      "execution_count": null,
      "outputs": [
        {
          "output_type": "display_data",
          "data": {
            "image/png": "[encoded data removed]",
            "text/plain": [
              "<Figure size 432x288 with 1 Axes>"
            ]
          },
          "metadata": {
            "tags": [],
            "needs_background": "light"
          }
        }
      ]
    },
    {
      "cell_type": "code",
      "metadata": {
        "id": "oTxdWfbVq3Or"
      },
      "source": [
        "# Divide it into input and output\n",
        "x = df.iloc[:,[0]].values\n",
        "y = df.iloc[:,1].values\n",
        "\n",
        "# x (input) should  be in 2 dimension"
      ],
      "execution_count": null,
      "outputs": []
    },
    {
      "cell_type": "code",
      "metadata": {
        "colab": {
          "base_uri": "https://localhost:8080/"
        },
        "id": "lBXGBlZFury3",
        "outputId": "e683a2dc-bcbf-4941-928e-9068597aa7ad"
      },
      "source": [
        "x.ndim\n",
        "# ValueError: Expected 2D array, got 1D array instead:"
      ],
      "execution_count": null,
      "outputs": [
        {
          "output_type": "execute_result",
          "data": {
            "text/plain": [
              "2"
            ]
          },
          "metadata": {
            "tags": []
          },
          "execution_count": 4
        }
      ]
    },
    {
      "cell_type": "code",
      "metadata": {
        "colab": {
          "base_uri": "https://localhost:8080/"
        },
        "id": "Auq19WxVrM3B",
        "outputId": "015b6f52-e9a2-4437-ee74-e912a3dfb0db"
      },
      "source": [
        "from sklearn.linear_model import LinearRegression\n",
        "model = LinearRegression()\n",
        "#1. Fitting the model : Mapping input with output\n",
        "#2. Predict the values\n",
        "model.fit(x,y) # training your model\n",
        "y_pred = model.predict(x) # Testing your model\n",
        "y_pred"
      ],
      "execution_count": null,
      "outputs": [
        {
          "output_type": "execute_result",
          "data": {
            "text/plain": [
              "array([ 36187.15875227,  38077.15121656,  39967.14368085,  44692.12484158,\n",
              "        46582.11730587,  53197.09093089,  54142.08716303,  56032.07962732,\n",
              "        56032.07962732,  60757.06078805,  62647.05325234,  63592.04948449,\n",
              "        63592.04948449,  64537.04571663,  68317.03064522,  72097.0155738 ,\n",
              "        73987.00803809,  75877.00050238,  81546.97789525,  82491.9741274 ,\n",
              "        90051.94398456,  92886.932681  , 100446.90253816, 103281.8912346 ,\n",
              "       108006.87239533, 110841.86109176, 115566.84225249, 116511.83848464,\n",
              "       123126.81210966, 125016.80457395])"
            ]
          },
          "metadata": {
            "tags": []
          },
          "execution_count": 5
        }
      ]
    },
    {
      "cell_type": "code",
      "metadata": {
        "colab": {
          "base_uri": "https://localhost:8080/"
        },
        "id": "mNR4TKVqsR6y",
        "outputId": "8a032567-1065-497e-eba3-4109cdf32c26"
      },
      "source": [
        "y"
      ],
      "execution_count": null,
      "outputs": [
        {
          "output_type": "execute_result",
          "data": {
            "text/plain": [
              "array([ 39343.,  46205.,  37731.,  43525.,  39891.,  56642.,  60150.,\n",
              "        54445.,  64445.,  57189.,  63218.,  55794.,  56957.,  57081.,\n",
              "        61111.,  67938.,  66029.,  83088.,  81363.,  93940.,  91738.,\n",
              "        98273., 101302., 113812., 109431., 105582., 116969., 112635.,\n",
              "       122391., 121872.])"
            ]
          },
          "metadata": {
            "tags": []
          },
          "execution_count": 6
        }
      ]
    },
    {
      "cell_type": "code",
      "metadata": {
        "colab": {
          "base_uri": "https://localhost:8080/"
        },
        "id": "m86lnXPNsZbJ",
        "outputId": "f7116c92-9eff-46d9-c408-b99076fc2a33"
      },
      "source": [
        "# Check the value of SLope and Intercept\n",
        "model.coef_"
      ],
      "execution_count": null,
      "outputs": [
        {
          "output_type": "execute_result",
          "data": {
            "text/plain": [
              "array([9449.96232146])"
            ]
          },
          "metadata": {
            "tags": []
          },
          "execution_count": 7
        }
      ]
    },
    {
      "cell_type": "code",
      "metadata": {
        "colab": {
          "base_uri": "https://localhost:8080/"
        },
        "id": "ueDeJINqsyjV",
        "outputId": "e2d62845-5d4e-4a58-cef9-9d09dd42e0c9"
      },
      "source": [
        "model.intercept_"
      ],
      "execution_count": null,
      "outputs": [
        {
          "output_type": "execute_result",
          "data": {
            "text/plain": [
              "25792.200198668696"
            ]
          },
          "metadata": {
            "tags": []
          },
          "execution_count": 8
        }
      ]
    },
    {
      "cell_type": "code",
      "metadata": {
        "colab": {
          "base_uri": "https://localhost:8080/",
          "height": 264
        },
        "id": "kGC9f2SQs0nw",
        "outputId": "0021cc08-5bd5-465b-92af-e551bdac9e10"
      },
      "source": [
        "# Best Fit Line\n",
        "import matplotlib.pyplot as plt\n",
        "plt.scatter(df['YearsExperience'],df['Salary'])\n",
        "plt.plot(x,y_pred,c='r')\n",
        "plt.show()"
      ],
      "execution_count": null,
      "outputs": [
        {
          "output_type": "display_data",
          "data": {
            "image/png": "[encoded data removed]",
            "text/plain": [
              "<Figure size 432x288 with 1 Axes>"
            ]
          },
          "metadata": {
            "tags": [],
            "needs_background": "light"
          }
        }
      ]
    },
    {
      "cell_type": "code",
      "metadata": {
        "colab": {
          "base_uri": "https://localhost:8080/"
        },
        "id": "c95caCsqtF-B",
        "outputId": "22a70568-c9c0-47cf-9233-f9b141d8636a"
      },
      "source": [
        "model.predict([[3.5]])\n",
        "# Testing new value"
      ],
      "execution_count": null,
      "outputs": [
        {
          "output_type": "execute_result",
          "data": {
            "text/plain": [
              "array([58867.06832376])"
            ]
          },
          "metadata": {
            "tags": []
          },
          "execution_count": 10
        }
      ]
    },
    {
      "cell_type": "code",
      "metadata": {
        "colab": {
          "base_uri": "https://localhost:8080/"
        },
        "id": "3IEnvyOVtXqT",
        "outputId": "054f714d-652e-4c3a-9faa-83a80148a58a"
      },
      "source": [
        "9449.96232146*3.5+25792.200198668696"
      ],
      "execution_count": null,
      "outputs": [
        {
          "output_type": "execute_result",
          "data": {
            "text/plain": [
              "58867.068323778694"
            ]
          },
          "metadata": {
            "tags": []
          },
          "execution_count": 11
        }
      ]
    },
    {
      "cell_type": "code",
      "metadata": {
        "colab": {
          "base_uri": "https://localhost:8080/"
        },
        "id": "BHTuVo-sxr6T",
        "outputId": "3f0b3729-017c-4bde-d1c7-162f714d87ad"
      },
      "source": [
        "from sklearn.metrics import mean_squared_error,r2_score\n",
        "print(mean_squared_error(y_pred,y,squared=False))\n",
        "print(r2_score(y_pred,y))"
      ],
      "execution_count": null,
      "outputs": [
        {
          "output_type": "stream",
          "text": [
            "5592.043608760661\n",
            "0.955020600755191\n"
          ],
          "name": "stdout"
        }
      ]
    },
    {
      "cell_type": "code",
      "metadata": {
        "id": "ie-fULsOwfLZ",
        "colab": {
          "base_uri": "https://localhost:8080/"
        },
        "outputId": "52629bad-552f-470d-9d57-1990ea217bca"
      },
      "source": [
        "from sklearn.linear_model import SGDRegressor\n",
        "model = SGDRegressor(random_state=42,penalty=None)\n",
        "#1. Fitting the model : Mapping input with output\n",
        "#2. Predict the values\n",
        "model.fit(x,y) # training your model\n",
        "y_pred = model.predict(x) # Testing your model\n",
        "y_pred"
      ],
      "execution_count": null,
      "outputs": [
        {
          "output_type": "execute_result",
          "data": {
            "text/plain": [
              "array([ 29982.92317941,  32077.49174493,  34172.06031045,  39408.48172426,\n",
              "        41503.05028978,  48834.04026911,  49881.32455187,  51975.8931174 ,\n",
              "        51975.8931174 ,  57212.3145312 ,  59306.88309673,  60354.16737949,\n",
              "        60354.16737949,  61401.45166225,  65590.5887933 ,  69779.72592434,\n",
              "        71874.29448986,  73968.86305539,  80252.56875195,  81299.85303472,\n",
              "        89678.12729681,  92819.98014509, 101198.25440718, 104340.10725547,\n",
              "       109576.52866927, 112718.38151756, 117954.80293137, 119002.08721413,\n",
              "       126333.07719346, 128427.64575898])"
            ]
          },
          "metadata": {
            "tags": []
          },
          "execution_count": 14
        }
      ]
    },
    {
      "cell_type": "code",
      "metadata": {
        "colab": {
          "base_uri": "https://localhost:8080/"
        },
        "id": "TAyzebPMxhXq",
        "outputId": "103a1027-382b-4013-9bae-63cdf728e7fe"
      },
      "source": [
        "print(model.coef_)\n",
        "print(model.intercept_)"
      ],
      "execution_count": null,
      "outputs": [
        {
          "output_type": "stream",
          "text": [
            "[10472.84282761]\n",
            "[18462.79606903]\n"
          ],
          "name": "stdout"
        }
      ]
    },
    {
      "cell_type": "code",
      "metadata": {
        "colab": {
          "base_uri": "https://localhost:8080/"
        },
        "id": "zo5c_zK-xo-V",
        "outputId": "79bb38a0-7c4a-49b0-c46b-1b7530b5accf"
      },
      "source": [
        "from sklearn.metrics import mean_squared_error,r2_score\n",
        "print(mean_squared_error(y_pred,y,squared=False))\n",
        "print(r2_score(y_pred,y))"
      ],
      "execution_count": null,
      "outputs": [
        {
          "output_type": "stream",
          "text": [
            "6557.862926003854\n",
            "0.9496350736694706\n"
          ],
          "name": "stdout"
        }
      ]
    },
    {
      "cell_type": "code",
      "metadata": {
        "colab": {
          "base_uri": "https://localhost:8080/",
          "height": 264
        },
        "id": "CJzQDrD9x7hJ",
        "outputId": "e11375c6-8a32-4bd8-e020-0756a19d2fac"
      },
      "source": [
        "import matplotlib.pyplot as plt\n",
        "plt.scatter(df['YearsExperience'],df['Salary'])\n",
        "plt.plot(x,y_pred,c='r')\n",
        "plt.show()"
      ],
      "execution_count": null,
      "outputs": [
        {
          "output_type": "display_data",
          "data": {
            "image/png": "[encoded data removed]",
            "text/plain": [
              "<Figure size 432x288 with 1 Axes>"
            ]
          },
          "metadata": {
            "tags": [],
            "needs_background": "light"
          }
        }
      ]
    },
    {
      "cell_type": "code",
      "metadata": {
        "id": "-AuwIt3DyEXx"
      },
      "source": [
        ""
      ],
      "execution_count": null,
      "outputs": []
    }
  ]
}